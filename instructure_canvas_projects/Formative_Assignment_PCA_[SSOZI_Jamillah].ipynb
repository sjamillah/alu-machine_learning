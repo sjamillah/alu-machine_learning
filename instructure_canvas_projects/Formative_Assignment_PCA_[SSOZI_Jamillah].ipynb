{
  "nbformat": 4,
  "nbformat_minor": 0,
  "metadata": {
    "colab": {
      "provenance": [],
      "include_colab_link": true
    },
    "kernelspec": {
      "name": "python3",
      "display_name": "Python 3"
    },
    "language_info": {
      "name": "python"
    }
  },
  "cells": [
    {
      "cell_type": "markdown",
      "metadata": {
        "id": "view-in-github",
        "colab_type": "text"
      },
      "source": [
        "<a href=\"https://colab.research.google.com/github/sjamillah/alu-machine_learning/blob/main/Formative_Assignment_PCA_%5BSSOZI_Jamillah%5D.ipynb\" target=\"_parent\"><img src=\"https://colab.research.google.com/assets/colab-badge.svg\" alt=\"Open In Colab\"/></a>"
      ]
    },
    {
      "cell_type": "markdown",
      "source": [
        "\n",
        "\n",
        "<center>\n",
        "    <img src=\"https://miro.medium.com/v2/resize:fit:300/1*mgncZaKaVx9U6OCQu_m8Bg.jpeg\">\n",
        "</center>\n",
        "\n",
        "\n",
        "\n",
        "The goal of PCA is to extract information while reducing the number of features\n",
        "from a dataset by identifying which existing features relate to another. The crux of the algorithm is trying to determine the relationship between existing features, called principal components, and then quantifying how relevant these principal components are. The principal components are used to transform the high dimensional data to a lower dimensional data while preserving as much information. For a principal component to be relevant, it needs to capture information about the features. We can determine the relationships between features using covariance."
      ],
      "metadata": {
        "id": "xyATLU4z1cYj"
      }
    },
    {
      "cell_type": "code",
      "source": [
        "#import necessary package\n",
        "import numpy as np\n",
        "import pandas as pd\n",
        "from sklearn.preprocessing import StandardScaler\n",
        "from sklearn.decomposition import PCA\n"
      ],
      "metadata": {
        "id": "UTntK0eUNimH"
      },
      "execution_count": 40,
      "outputs": []
    },
    {
      "cell_type": "code",
      "source": [
        "# first dataset\n",
        "data = np.array([\n",
        "    [   1,   2,  -1,   4,  10],\n",
        "    [   3,  -3,  -3,  12, -15],\n",
        "    [   2,   1,  -2,   4,   5],\n",
        "    [   5,   1,  -5,  10,   5],\n",
        "    [   2,   3,  -3,   5,  12],\n",
        "    [   4,   0,  -3,  16,   2],\n",
        "])"
      ],
      "metadata": {
        "id": "qWaiAdz8PyKp"
      },
      "execution_count": 41,
      "outputs": []
    },
    {
      "cell_type": "markdown",
      "source": [
        "### Step 1: Standardize the Data along the Features\n",
        "\n",
        "![image.png](https://encrypted-tbn0.gstatic.com/images?q=tbn:ANd9GcQLxe5VYCBsaZddkkTZlCY24Yov4JJD4-ArTA&usqp=CAU)\n",
        "\n",
        "\n",
        "\n",
        "\n",
        "Explain why we need to handle the data on the same scale.\n",
        "\n",
        "**[We need to keep the data on the same scale to avoid distorting it. PCA works best when the data is spread out evenly, and not doing this can affect the results.]**"
      ],
      "metadata": {
        "id": "U2U2_Q5ebos3"
      }
    },
    {
      "cell_type": "code",
      "source": [
        "# We standardize the data using the standard scaler in-built function\n",
        "scaler = StandardScaler()\n",
        "# Fit and transform on the data set\n",
        "standardized_data = scaler.fit_transform(data)\n",
        "\n",
        "# Print standardized data\n",
        "print(\"The standardized data:\\n\", standardized_data)\n"
      ],
      "metadata": {
        "id": "JF3eGB7FRC0A",
        "colab": {
          "base_uri": "https://localhost:8080/"
        },
        "outputId": "5c674926-ca86-431d-d3e5-7cd610314867"
      },
      "execution_count": 42,
      "outputs": [
        {
          "output_type": "stream",
          "name": "stdout",
          "text": [
            "The standardized data:\n",
            " [[-1.36438208  0.70710678  1.5109662  -0.99186978  0.77802924]\n",
            " [ 0.12403473 -1.94454365 -0.13736056  0.77145428 -2.06841919]\n",
            " [-0.62017367  0.1767767   0.68680282 -0.99186978  0.20873955]\n",
            " [ 1.61245155  0.1767767  -1.78568733  0.33062326  0.20873955]\n",
            " [-0.62017367  1.23743687 -0.13736056 -0.77145428  1.00574511]\n",
            " [ 0.86824314 -0.35355339 -0.13736056  1.65311631 -0.13283426]]\n"
          ]
        }
      ]
    },
    {
      "cell_type": "markdown",
      "source": [
        "![cov matrix.webp](https://dmitry.ai/uploads/default/original/1X/9bd2851674ebb55e404cc3ff5e2ffe65b42ff460.png)\n",
        "\n",
        "We use the pair - wise covariance of the different features to determine how they relate to each other. With these covariances, our goal is to group / cluster based on similar patterns. Intuitively, we can relate features if they have similar covariances with other features."
      ],
      "metadata": {
        "id": "S09c9Eldqa3J"
      }
    },
    {
      "cell_type": "markdown",
      "source": [
        "### Step 2: Calculate the Covariance Matrix\n",
        "\n"
      ],
      "metadata": {
        "id": "uuhux3UEcBgw"
      }
    },
    {
      "cell_type": "code",
      "execution_count": 43,
      "metadata": {
        "colab": {
          "base_uri": "https://localhost:8080/"
        },
        "id": "qn8oujZlK9YR",
        "outputId": "7f44bbb9-c63c-479b-f8f7-3d644e88de91"
      },
      "outputs": [
        {
          "output_type": "stream",
          "name": "stdout",
          "text": [
            "Covariance matrix:\n",
            " [[ 1.2        -0.42098785 -1.0835838   0.90219291 -0.37000528]\n",
            " [-0.42098785  1.2         0.20397003 -0.77149364  1.18751836]\n",
            " [-1.0835838   0.20397003  1.2        -0.59947269  0.22208218]\n",
            " [ 0.90219291 -0.77149364 -0.59947269  1.2        -0.70017993]\n",
            " [-0.37000528  1.18751836  0.22208218 -0.70017993  1.2       ]]\n"
          ]
        }
      ],
      "source": [
        "# Calculation of the covariance matrix\n",
        "cov_matrix = np.cov(standardized_data, rowvar=False) # Transpose to get features as rows\n",
        "\n",
        "# Print the covariance matrix\n",
        "print(\"Covariance matrix:\\n\", cov_matrix)"
      ]
    },
    {
      "cell_type": "markdown",
      "source": [
        "### Step 3: Eigendecomposition on the Covariance Matrix\n"
      ],
      "metadata": {
        "id": "uXNcG4AFcT08"
      }
    },
    {
      "cell_type": "code",
      "source": [
        "# The eigen decomposition on the covariance matrix\n",
        "eigenvalues, eigenvectors = np.linalg.eig(cov_matrix)\n",
        "\n",
        "# Print the eigenvalues and eigenvectors\n",
        "print(\"Eigenvalues:\\n\", eigenvalues)\n",
        "print(\"\\nEigenvectors:\\n\", eigenvectors)"
      ],
      "metadata": {
        "id": "dmGlQ47tRO5w",
        "colab": {
          "base_uri": "https://localhost:8080/"
        },
        "outputId": "75e51e0c-744d-4482-e035-17716dac2d62"
      },
      "execution_count": 44,
      "outputs": [
        {
          "output_type": "stream",
          "name": "stdout",
          "text": [
            "Eigenvalues:\n",
            " [3.80985761e+00 1.73655615e+00 4.94531029e-02 4.74189469e-05\n",
            " 4.04085720e-01]\n",
            "\n",
            "Eigenvectors:\n",
            " [[-0.4640131   0.45182808 -0.70733581  0.28128049 -0.03317471]\n",
            " [ 0.45019005  0.48800851  0.29051532  0.6706731  -0.15803498]\n",
            " [ 0.37929082 -0.55665017 -0.48462321  0.24186072 -0.5029143 ]\n",
            " [-0.4976889   0.03162214  0.36999674 -0.03373724 -0.78311558]\n",
            " [ 0.43642295  0.49682965 -0.20861365 -0.64143906 -0.32822489]]\n"
          ]
        }
      ]
    },
    {
      "cell_type": "markdown",
      "source": [
        "### Step 4: Sort the Principal Components\n",
        "# np.argsort can only provide lowest to highest; use [::-1] to reverse the list"
      ],
      "metadata": {
        "id": "4pWho88fcbJA"
      }
    },
    {
      "cell_type": "code",
      "source": [
        "# np.argsort can only provide lowest to highest; use [::-1] to reverse the list\n",
        "\n",
        "order_of_importance = np.argsort(eigenvalues)[::-1]\n",
        "print ( 'the order of importance is :\\n {}'.format(order_of_importance))\n",
        "\n",
        "# utilize the sort order to sort eigenvalues and eigenvectors\n",
        "sorted_eigenvalues = eigenvalues[order_of_importance]\n",
        "\n",
        "print('\\n\\n sorted eigen values:\\n{}'.format(sorted_eigenvalues))\n",
        "sorted_eigenvectors = eigenvectors[:, order_of_importance] # sort the columns\n",
        "print('\\n\\n The sorted eigen vector matrix is: \\n {}'.format(sorted_eigenvectors))"
      ],
      "metadata": {
        "colab": {
          "base_uri": "https://localhost:8080/"
        },
        "id": "_znKtzdrTmMg",
        "outputId": "3ecee940-882d-4672-b0b8-713b89c55498"
      },
      "execution_count": 45,
      "outputs": [
        {
          "output_type": "stream",
          "name": "stdout",
          "text": [
            "the order of importance is :\n",
            " [0 1 4 2 3]\n",
            "\n",
            "\n",
            " sorted eigen values:\n",
            "[3.80985761e+00 1.73655615e+00 4.04085720e-01 4.94531029e-02\n",
            " 4.74189469e-05]\n",
            "\n",
            "\n",
            " The sorted eigen vector matrix is: \n",
            " [[-0.4640131   0.45182808 -0.03317471 -0.70733581  0.28128049]\n",
            " [ 0.45019005  0.48800851 -0.15803498  0.29051532  0.6706731 ]\n",
            " [ 0.37929082 -0.55665017 -0.5029143  -0.48462321  0.24186072]\n",
            " [-0.4976889   0.03162214 -0.78311558  0.36999674 -0.03373724]\n",
            " [ 0.43642295  0.49682965 -0.32822489 -0.20861365 -0.64143906]]\n"
          ]
        }
      ]
    },
    {
      "cell_type": "markdown",
      "source": [
        "Question:\n",
        "\n",
        "1. Why do we order eigen values and eigen vectors?\n",
        "\n",
        "**[We order the eigenvalues and eigenvectors to identify the principal components in order of significance, allowing us to prioritize those that explain the most variance in the data. This ordering helps in determining which components to retain for dimensionality reduction, ensuring that we focus on the most informative features that capture the underlying structure of the dataset. By sorting them, we can effectively discard less important components that contribute minimal variance, leading to a more efficient and interpretable analysis.]**\n",
        "\n",
        "2. Is it true we would consider the lowest eigen value compared to the highest? Defend your answer\n",
        "\n",
        "**[We primarily focus on the highest eigenvalues rather than the lowest because the eigenvalues indicate the amount of variance each principal component explains; higher eigenvalues correspond to components that capture significant variability in the data, thus being more informative. Retaining components with high eigenvalues allows us to reduce dimensionality while preserving the essential structure and insights of the dataset, as low eigenvalues often represent noise rather than meaningful patterns. This approach not only enhances interpretability but also aids in distinguishing true signals from random fluctuations, ensuring that our analysis remains robust and effective in revealing underlying trends in the data.]**\n"
      ],
      "metadata": {
        "id": "o1nILNGxpTJB"
      }
    },
    {
      "cell_type": "markdown",
      "source": [
        "You want to see what percentage of information each eigen value holds. You would have print out the percentage of each eigen value using the formula\n",
        "\n",
        "\n",
        "\n",
        "> (sorted eigen values / sum of all sorted eigen values) * 100\n",
        "\n"
      ],
      "metadata": {
        "id": "BWqFGNeNvgEB"
      }
    },
    {
      "cell_type": "code",
      "source": [
        "# use sorted_eigenvalues to ensure the explained variances correspond to the eigenvectors\n",
        "\n",
        "total_variance = sum(sorted_eigenvalues)\n",
        "explained_variance = [value / total_variance * 100 for value in sorted_eigenvalues]\n",
        "explained_variance =[\"{:.2f}%\".format(value) for value in explained_variance]\n",
        "print( explained_variance)"
      ],
      "metadata": {
        "colab": {
          "base_uri": "https://localhost:8080/"
        },
        "id": "bRMHrffrVOXR",
        "outputId": "71f9d910-45a3-48ba-fa7c-188e113335c0"
      },
      "execution_count": 46,
      "outputs": [
        {
          "output_type": "stream",
          "name": "stdout",
          "text": [
            "['63.50%', '28.94%', '6.73%', '0.82%', '0.00%']\n"
          ]
        }
      ]
    },
    {
      "cell_type": "markdown",
      "source": [
        "#Initialize the number of Principle components then perfrom matrix multiplication with the variable K example k = 3 for 3 priciple components\n",
        "\n",
        "\n",
        "\n",
        "\n",
        "> The reulting matrix (with reduced data) = standardized data * vector with columns k\n",
        "\n",
        "See expected output for k = 2\n",
        "\n"
      ],
      "metadata": {
        "id": "qB7H4InbfKx5"
      }
    },
    {
      "cell_type": "code",
      "source": [
        "k =  2 # select the number of principal components\n",
        "\n",
        "reduced_data = sorted_eigenvectors[:, :k]\n",
        "reduced_data = np.matmul(standardized_data, reduced_data) # transform the original data"
      ],
      "metadata": {
        "id": "C-Rnyq6QVTiz"
      },
      "execution_count": 47,
      "outputs": []
    },
    {
      "cell_type": "code",
      "source": [
        "print(reduced_data)"
      ],
      "metadata": {
        "colab": {
          "base_uri": "https://localhost:8080/"
        },
        "id": "JxxBcgQMXe1h",
        "outputId": "82b827f7-6167-419a-e70a-4060eb95186a"
      },
      "execution_count": 48,
      "outputs": [
        {
          "output_type": "stream",
          "name": "stdout",
          "text": [
            "[[ 2.3577116  -0.75728867]\n",
            " [-2.27171739 -1.81970663]\n",
            " [ 1.21259114 -0.50390931]\n",
            " [-1.41935914  1.9229856 ]\n",
            " [ 1.61562536  0.87541857]\n",
            " [-1.49485157  0.28250044]]\n"
          ]
        }
      ]
    },
    {
      "cell_type": "code",
      "source": [
        "print(reduced_data.shape)"
      ],
      "metadata": {
        "colab": {
          "base_uri": "https://localhost:8080/"
        },
        "id": "PNEqS6cuaMSY",
        "outputId": "d5644f6d-918a-4f86-ff46-cfac51b3e6b8"
      },
      "execution_count": 49,
      "outputs": [
        {
          "output_type": "stream",
          "name": "stdout",
          "text": [
            "(6, 2)\n"
          ]
        }
      ]
    },
    {
      "cell_type": "markdown",
      "source": [
        "# *What are 2 positive effects and 2 negative effects of PCA\n",
        "\n",
        "Give 2 Benefits and 2 limitations\n",
        "\n",
        "**The Benefits:**\n",
        "1. PCA facilitates data visualization by treansforming high-dimensional data into lower-dimensionas making it easier to identify patterns and trends.\n",
        "2. PCA helps reduce the number of features in a dataset while retaining most of the variance, which simplifies models and reduces computational costs.\n",
        "\n",
        "**The Limitations:**\n",
        "1. The principal components are linear combinations of the original features, making it challenging to interpret the results in terms of the original variables.\n",
        "2. PCA is sensitive to the scale of the data, requiring careful preprocessing to ensure that features contribute equally to the analysis."
      ],
      "metadata": {
        "id": "UxQ8lTunauMQ"
      }
    },
    {
      "cell_type": "markdown",
      "source": [
        "# Additional Requirements"
      ],
      "metadata": {
        "id": "ozQO5RbOZGVq"
      }
    },
    {
      "cell_type": "markdown",
      "source": [
        "## *The second dataset of the fuelecon.csv calculations."
      ],
      "metadata": {
        "id": "ag-Ksyawmw3a"
      }
    },
    {
      "cell_type": "code",
      "source": [
        "#import necessary package\n",
        "import numpy as np\n",
        "import pandas as pd\n",
        "from sklearn.preprocessing import StandardScaler\n"
      ],
      "metadata": {
        "id": "lHTlwQJKnaZV"
      },
      "execution_count": 33,
      "outputs": []
    },
    {
      "cell_type": "code",
      "source": [
        "from google.colab import drive\n",
        "drive.mount('/content/drive')"
      ],
      "metadata": {
        "colab": {
          "base_uri": "https://localhost:8080/"
        },
        "id": "HJKqdD0dn14Q",
        "outputId": "abd000b2-1876-4096-d8dc-c262987d644f"
      },
      "execution_count": 2,
      "outputs": [
        {
          "output_type": "stream",
          "name": "stdout",
          "text": [
            "Mounted at /content/drive\n"
          ]
        }
      ]
    },
    {
      "cell_type": "code",
      "source": [
        "data = pd.read_csv('/content/drive/MyDrive/Colab Notebooks/Data/fuel_econ.csv')\n",
        "data.head(11)"
      ],
      "metadata": {
        "colab": {
          "base_uri": "https://localhost:8080/",
          "height": 394
        },
        "id": "h7Tg3TqsoIvd",
        "outputId": "80fa69cb-7e6b-432b-9084-949bc789cf2b"
      },
      "execution_count": 53,
      "outputs": [
        {
          "output_type": "execute_result",
          "data": {
            "text/plain": [
              "       id        make           model  year           VClass  \\\n",
              "0   32204      Nissan            GT-R  2013  Subcompact Cars   \n",
              "1   32205  Volkswagen              CC  2013     Compact Cars   \n",
              "2   32206  Volkswagen              CC  2013     Compact Cars   \n",
              "3   32207  Volkswagen      CC 4motion  2013     Compact Cars   \n",
              "4   32208   Chevrolet  Malibu eAssist  2013     Midsize Cars   \n",
              "5   32209       Lexus          GS 350  2013     Midsize Cars   \n",
              "6   32210       Lexus      GS 350 AWD  2013     Midsize Cars   \n",
              "7   32214     Hyundai   Genesis Coupe  2013  Subcompact Cars   \n",
              "8   32215     Hyundai   Genesis Coupe  2013  Subcompact Cars   \n",
              "9   32216     Hyundai   Genesis Coupe  2013  Subcompact Cars   \n",
              "10  32217     Hyundai   Genesis Coupe  2013  Subcompact Cars   \n",
              "\n",
              "                drive              trans          fuelType  cylinders  displ  \\\n",
              "0     All-Wheel Drive    Automatic (AM6)  Premium Gasoline          6    3.8   \n",
              "1   Front-Wheel Drive  Automatic (AM-S6)  Premium Gasoline          4    2.0   \n",
              "2   Front-Wheel Drive     Automatic (S6)  Premium Gasoline          6    3.6   \n",
              "3     All-Wheel Drive     Automatic (S6)  Premium Gasoline          6    3.6   \n",
              "4   Front-Wheel Drive     Automatic (S6)  Regular Gasoline          4    2.4   \n",
              "5    Rear-Wheel Drive     Automatic (S6)  Premium Gasoline          6    3.5   \n",
              "6     All-Wheel Drive     Automatic (S6)  Premium Gasoline          6    3.5   \n",
              "7    Rear-Wheel Drive    Automatic 8-spd  Premium Gasoline          4    2.0   \n",
              "8    Rear-Wheel Drive       Manual 6-spd  Premium Gasoline          4    2.0   \n",
              "9    Rear-Wheel Drive    Automatic 8-spd  Premium Gasoline          6    3.8   \n",
              "10   Rear-Wheel Drive       Manual 6-spd  Premium Gasoline          6    3.8   \n",
              "\n",
              "    pv2  pv4     city    UCity  highway  UHighway     comb  co2  feScore  \\\n",
              "0    79    0  16.4596  20.2988  22.5568   30.1798  18.7389  471        4   \n",
              "1    94    0  21.8706  26.9770  31.0367   42.4936  25.2227  349        6   \n",
              "2    94    0  17.4935  21.2000  26.5716   35.1000  20.6716  429        5   \n",
              "3    94    0  16.9415  20.5000  25.2190   33.5000  19.8774  446        5   \n",
              "4     0   95  24.7726  31.9796  35.5340   51.8816  28.6813  310        8   \n",
              "5     0   99  19.4325  24.1499  28.2234   38.5000  22.6002  393        6   \n",
              "6     0   99  18.5752  23.5261  26.3573   36.2109  21.4213  412        5   \n",
              "7    89    0  17.4460  21.7946  26.6295   37.6731  20.6507  432        5   \n",
              "8    89    0  20.6741  26.2000  29.2741   41.8000  23.8235  375        6   \n",
              "9    89    0  16.4675  20.4839  24.5605   34.4972  19.3344  461        4   \n",
              "10   89    0  18.1909  22.8000  26.7761   37.9000  21.2581  420        5   \n",
              "\n",
              "    ghgScore  \n",
              "0          4  \n",
              "1          6  \n",
              "2          5  \n",
              "3          5  \n",
              "4          8  \n",
              "5          6  \n",
              "6          5  \n",
              "7          5  \n",
              "8          6  \n",
              "9          4  \n",
              "10         5  "
            ],
            "text/html": [
              "\n",
              "  <div id=\"df-fdf6ba10-3e91-444a-9e58-272e4aa02929\" class=\"colab-df-container\">\n",
              "    <div>\n",
              "<style scoped>\n",
              "    .dataframe tbody tr th:only-of-type {\n",
              "        vertical-align: middle;\n",
              "    }\n",
              "\n",
              "    .dataframe tbody tr th {\n",
              "        vertical-align: top;\n",
              "    }\n",
              "\n",
              "    .dataframe thead th {\n",
              "        text-align: right;\n",
              "    }\n",
              "</style>\n",
              "<table border=\"1\" class=\"dataframe\">\n",
              "  <thead>\n",
              "    <tr style=\"text-align: right;\">\n",
              "      <th></th>\n",
              "      <th>id</th>\n",
              "      <th>make</th>\n",
              "      <th>model</th>\n",
              "      <th>year</th>\n",
              "      <th>VClass</th>\n",
              "      <th>drive</th>\n",
              "      <th>trans</th>\n",
              "      <th>fuelType</th>\n",
              "      <th>cylinders</th>\n",
              "      <th>displ</th>\n",
              "      <th>pv2</th>\n",
              "      <th>pv4</th>\n",
              "      <th>city</th>\n",
              "      <th>UCity</th>\n",
              "      <th>highway</th>\n",
              "      <th>UHighway</th>\n",
              "      <th>comb</th>\n",
              "      <th>co2</th>\n",
              "      <th>feScore</th>\n",
              "      <th>ghgScore</th>\n",
              "    </tr>\n",
              "  </thead>\n",
              "  <tbody>\n",
              "    <tr>\n",
              "      <th>0</th>\n",
              "      <td>32204</td>\n",
              "      <td>Nissan</td>\n",
              "      <td>GT-R</td>\n",
              "      <td>2013</td>\n",
              "      <td>Subcompact Cars</td>\n",
              "      <td>All-Wheel Drive</td>\n",
              "      <td>Automatic (AM6)</td>\n",
              "      <td>Premium Gasoline</td>\n",
              "      <td>6</td>\n",
              "      <td>3.8</td>\n",
              "      <td>79</td>\n",
              "      <td>0</td>\n",
              "      <td>16.4596</td>\n",
              "      <td>20.2988</td>\n",
              "      <td>22.5568</td>\n",
              "      <td>30.1798</td>\n",
              "      <td>18.7389</td>\n",
              "      <td>471</td>\n",
              "      <td>4</td>\n",
              "      <td>4</td>\n",
              "    </tr>\n",
              "    <tr>\n",
              "      <th>1</th>\n",
              "      <td>32205</td>\n",
              "      <td>Volkswagen</td>\n",
              "      <td>CC</td>\n",
              "      <td>2013</td>\n",
              "      <td>Compact Cars</td>\n",
              "      <td>Front-Wheel Drive</td>\n",
              "      <td>Automatic (AM-S6)</td>\n",
              "      <td>Premium Gasoline</td>\n",
              "      <td>4</td>\n",
              "      <td>2.0</td>\n",
              "      <td>94</td>\n",
              "      <td>0</td>\n",
              "      <td>21.8706</td>\n",
              "      <td>26.9770</td>\n",
              "      <td>31.0367</td>\n",
              "      <td>42.4936</td>\n",
              "      <td>25.2227</td>\n",
              "      <td>349</td>\n",
              "      <td>6</td>\n",
              "      <td>6</td>\n",
              "    </tr>\n",
              "    <tr>\n",
              "      <th>2</th>\n",
              "      <td>32206</td>\n",
              "      <td>Volkswagen</td>\n",
              "      <td>CC</td>\n",
              "      <td>2013</td>\n",
              "      <td>Compact Cars</td>\n",
              "      <td>Front-Wheel Drive</td>\n",
              "      <td>Automatic (S6)</td>\n",
              "      <td>Premium Gasoline</td>\n",
              "      <td>6</td>\n",
              "      <td>3.6</td>\n",
              "      <td>94</td>\n",
              "      <td>0</td>\n",
              "      <td>17.4935</td>\n",
              "      <td>21.2000</td>\n",
              "      <td>26.5716</td>\n",
              "      <td>35.1000</td>\n",
              "      <td>20.6716</td>\n",
              "      <td>429</td>\n",
              "      <td>5</td>\n",
              "      <td>5</td>\n",
              "    </tr>\n",
              "    <tr>\n",
              "      <th>3</th>\n",
              "      <td>32207</td>\n",
              "      <td>Volkswagen</td>\n",
              "      <td>CC 4motion</td>\n",
              "      <td>2013</td>\n",
              "      <td>Compact Cars</td>\n",
              "      <td>All-Wheel Drive</td>\n",
              "      <td>Automatic (S6)</td>\n",
              "      <td>Premium Gasoline</td>\n",
              "      <td>6</td>\n",
              "      <td>3.6</td>\n",
              "      <td>94</td>\n",
              "      <td>0</td>\n",
              "      <td>16.9415</td>\n",
              "      <td>20.5000</td>\n",
              "      <td>25.2190</td>\n",
              "      <td>33.5000</td>\n",
              "      <td>19.8774</td>\n",
              "      <td>446</td>\n",
              "      <td>5</td>\n",
              "      <td>5</td>\n",
              "    </tr>\n",
              "    <tr>\n",
              "      <th>4</th>\n",
              "      <td>32208</td>\n",
              "      <td>Chevrolet</td>\n",
              "      <td>Malibu eAssist</td>\n",
              "      <td>2013</td>\n",
              "      <td>Midsize Cars</td>\n",
              "      <td>Front-Wheel Drive</td>\n",
              "      <td>Automatic (S6)</td>\n",
              "      <td>Regular Gasoline</td>\n",
              "      <td>4</td>\n",
              "      <td>2.4</td>\n",
              "      <td>0</td>\n",
              "      <td>95</td>\n",
              "      <td>24.7726</td>\n",
              "      <td>31.9796</td>\n",
              "      <td>35.5340</td>\n",
              "      <td>51.8816</td>\n",
              "      <td>28.6813</td>\n",
              "      <td>310</td>\n",
              "      <td>8</td>\n",
              "      <td>8</td>\n",
              "    </tr>\n",
              "    <tr>\n",
              "      <th>5</th>\n",
              "      <td>32209</td>\n",
              "      <td>Lexus</td>\n",
              "      <td>GS 350</td>\n",
              "      <td>2013</td>\n",
              "      <td>Midsize Cars</td>\n",
              "      <td>Rear-Wheel Drive</td>\n",
              "      <td>Automatic (S6)</td>\n",
              "      <td>Premium Gasoline</td>\n",
              "      <td>6</td>\n",
              "      <td>3.5</td>\n",
              "      <td>0</td>\n",
              "      <td>99</td>\n",
              "      <td>19.4325</td>\n",
              "      <td>24.1499</td>\n",
              "      <td>28.2234</td>\n",
              "      <td>38.5000</td>\n",
              "      <td>22.6002</td>\n",
              "      <td>393</td>\n",
              "      <td>6</td>\n",
              "      <td>6</td>\n",
              "    </tr>\n",
              "    <tr>\n",
              "      <th>6</th>\n",
              "      <td>32210</td>\n",
              "      <td>Lexus</td>\n",
              "      <td>GS 350 AWD</td>\n",
              "      <td>2013</td>\n",
              "      <td>Midsize Cars</td>\n",
              "      <td>All-Wheel Drive</td>\n",
              "      <td>Automatic (S6)</td>\n",
              "      <td>Premium Gasoline</td>\n",
              "      <td>6</td>\n",
              "      <td>3.5</td>\n",
              "      <td>0</td>\n",
              "      <td>99</td>\n",
              "      <td>18.5752</td>\n",
              "      <td>23.5261</td>\n",
              "      <td>26.3573</td>\n",
              "      <td>36.2109</td>\n",
              "      <td>21.4213</td>\n",
              "      <td>412</td>\n",
              "      <td>5</td>\n",
              "      <td>5</td>\n",
              "    </tr>\n",
              "    <tr>\n",
              "      <th>7</th>\n",
              "      <td>32214</td>\n",
              "      <td>Hyundai</td>\n",
              "      <td>Genesis Coupe</td>\n",
              "      <td>2013</td>\n",
              "      <td>Subcompact Cars</td>\n",
              "      <td>Rear-Wheel Drive</td>\n",
              "      <td>Automatic 8-spd</td>\n",
              "      <td>Premium Gasoline</td>\n",
              "      <td>4</td>\n",
              "      <td>2.0</td>\n",
              "      <td>89</td>\n",
              "      <td>0</td>\n",
              "      <td>17.4460</td>\n",
              "      <td>21.7946</td>\n",
              "      <td>26.6295</td>\n",
              "      <td>37.6731</td>\n",
              "      <td>20.6507</td>\n",
              "      <td>432</td>\n",
              "      <td>5</td>\n",
              "      <td>5</td>\n",
              "    </tr>\n",
              "    <tr>\n",
              "      <th>8</th>\n",
              "      <td>32215</td>\n",
              "      <td>Hyundai</td>\n",
              "      <td>Genesis Coupe</td>\n",
              "      <td>2013</td>\n",
              "      <td>Subcompact Cars</td>\n",
              "      <td>Rear-Wheel Drive</td>\n",
              "      <td>Manual 6-spd</td>\n",
              "      <td>Premium Gasoline</td>\n",
              "      <td>4</td>\n",
              "      <td>2.0</td>\n",
              "      <td>89</td>\n",
              "      <td>0</td>\n",
              "      <td>20.6741</td>\n",
              "      <td>26.2000</td>\n",
              "      <td>29.2741</td>\n",
              "      <td>41.8000</td>\n",
              "      <td>23.8235</td>\n",
              "      <td>375</td>\n",
              "      <td>6</td>\n",
              "      <td>6</td>\n",
              "    </tr>\n",
              "    <tr>\n",
              "      <th>9</th>\n",
              "      <td>32216</td>\n",
              "      <td>Hyundai</td>\n",
              "      <td>Genesis Coupe</td>\n",
              "      <td>2013</td>\n",
              "      <td>Subcompact Cars</td>\n",
              "      <td>Rear-Wheel Drive</td>\n",
              "      <td>Automatic 8-spd</td>\n",
              "      <td>Premium Gasoline</td>\n",
              "      <td>6</td>\n",
              "      <td>3.8</td>\n",
              "      <td>89</td>\n",
              "      <td>0</td>\n",
              "      <td>16.4675</td>\n",
              "      <td>20.4839</td>\n",
              "      <td>24.5605</td>\n",
              "      <td>34.4972</td>\n",
              "      <td>19.3344</td>\n",
              "      <td>461</td>\n",
              "      <td>4</td>\n",
              "      <td>4</td>\n",
              "    </tr>\n",
              "    <tr>\n",
              "      <th>10</th>\n",
              "      <td>32217</td>\n",
              "      <td>Hyundai</td>\n",
              "      <td>Genesis Coupe</td>\n",
              "      <td>2013</td>\n",
              "      <td>Subcompact Cars</td>\n",
              "      <td>Rear-Wheel Drive</td>\n",
              "      <td>Manual 6-spd</td>\n",
              "      <td>Premium Gasoline</td>\n",
              "      <td>6</td>\n",
              "      <td>3.8</td>\n",
              "      <td>89</td>\n",
              "      <td>0</td>\n",
              "      <td>18.1909</td>\n",
              "      <td>22.8000</td>\n",
              "      <td>26.7761</td>\n",
              "      <td>37.9000</td>\n",
              "      <td>21.2581</td>\n",
              "      <td>420</td>\n",
              "      <td>5</td>\n",
              "      <td>5</td>\n",
              "    </tr>\n",
              "  </tbody>\n",
              "</table>\n",
              "</div>\n",
              "    <div class=\"colab-df-buttons\">\n",
              "\n",
              "  <div class=\"colab-df-container\">\n",
              "    <button class=\"colab-df-convert\" onclick=\"convertToInteractive('df-fdf6ba10-3e91-444a-9e58-272e4aa02929')\"\n",
              "            title=\"Convert this dataframe to an interactive table.\"\n",
              "            style=\"display:none;\">\n",
              "\n",
              "  <svg xmlns=\"http://www.w3.org/2000/svg\" height=\"24px\" viewBox=\"0 -960 960 960\">\n",
              "    <path d=\"M120-120v-720h720v720H120Zm60-500h600v-160H180v160Zm220 220h160v-160H400v160Zm0 220h160v-160H400v160ZM180-400h160v-160H180v160Zm440 0h160v-160H620v160ZM180-180h160v-160H180v160Zm440 0h160v-160H620v160Z\"/>\n",
              "  </svg>\n",
              "    </button>\n",
              "\n",
              "  <style>\n",
              "    .colab-df-container {\n",
              "      display:flex;\n",
              "      gap: 12px;\n",
              "    }\n",
              "\n",
              "    .colab-df-convert {\n",
              "      background-color: #E8F0FE;\n",
              "      border: none;\n",
              "      border-radius: 50%;\n",
              "      cursor: pointer;\n",
              "      display: none;\n",
              "      fill: #1967D2;\n",
              "      height: 32px;\n",
              "      padding: 0 0 0 0;\n",
              "      width: 32px;\n",
              "    }\n",
              "\n",
              "    .colab-df-convert:hover {\n",
              "      background-color: #E2EBFA;\n",
              "      box-shadow: 0px 1px 2px rgba(60, 64, 67, 0.3), 0px 1px 3px 1px rgba(60, 64, 67, 0.15);\n",
              "      fill: #174EA6;\n",
              "    }\n",
              "\n",
              "    .colab-df-buttons div {\n",
              "      margin-bottom: 4px;\n",
              "    }\n",
              "\n",
              "    [theme=dark] .colab-df-convert {\n",
              "      background-color: #3B4455;\n",
              "      fill: #D2E3FC;\n",
              "    }\n",
              "\n",
              "    [theme=dark] .colab-df-convert:hover {\n",
              "      background-color: #434B5C;\n",
              "      box-shadow: 0px 1px 3px 1px rgba(0, 0, 0, 0.15);\n",
              "      filter: drop-shadow(0px 1px 2px rgba(0, 0, 0, 0.3));\n",
              "      fill: #FFFFFF;\n",
              "    }\n",
              "  </style>\n",
              "\n",
              "    <script>\n",
              "      const buttonEl =\n",
              "        document.querySelector('#df-fdf6ba10-3e91-444a-9e58-272e4aa02929 button.colab-df-convert');\n",
              "      buttonEl.style.display =\n",
              "        google.colab.kernel.accessAllowed ? 'block' : 'none';\n",
              "\n",
              "      async function convertToInteractive(key) {\n",
              "        const element = document.querySelector('#df-fdf6ba10-3e91-444a-9e58-272e4aa02929');\n",
              "        const dataTable =\n",
              "          await google.colab.kernel.invokeFunction('convertToInteractive',\n",
              "                                                    [key], {});\n",
              "        if (!dataTable) return;\n",
              "\n",
              "        const docLinkHtml = 'Like what you see? Visit the ' +\n",
              "          '<a target=\"_blank\" href=https://colab.research.google.com/notebooks/data_table.ipynb>data table notebook</a>'\n",
              "          + ' to learn more about interactive tables.';\n",
              "        element.innerHTML = '';\n",
              "        dataTable['output_type'] = 'display_data';\n",
              "        await google.colab.output.renderOutput(dataTable, element);\n",
              "        const docLink = document.createElement('div');\n",
              "        docLink.innerHTML = docLinkHtml;\n",
              "        element.appendChild(docLink);\n",
              "      }\n",
              "    </script>\n",
              "  </div>\n",
              "\n",
              "\n",
              "<div id=\"df-9cb46c90-d4c9-4d87-ba47-3116aef1b911\">\n",
              "  <button class=\"colab-df-quickchart\" onclick=\"quickchart('df-9cb46c90-d4c9-4d87-ba47-3116aef1b911')\"\n",
              "            title=\"Suggest charts\"\n",
              "            style=\"display:none;\">\n",
              "\n",
              "<svg xmlns=\"http://www.w3.org/2000/svg\" height=\"24px\"viewBox=\"0 0 24 24\"\n",
              "     width=\"24px\">\n",
              "    <g>\n",
              "        <path d=\"M19 3H5c-1.1 0-2 .9-2 2v14c0 1.1.9 2 2 2h14c1.1 0 2-.9 2-2V5c0-1.1-.9-2-2-2zM9 17H7v-7h2v7zm4 0h-2V7h2v10zm4 0h-2v-4h2v4z\"/>\n",
              "    </g>\n",
              "</svg>\n",
              "  </button>\n",
              "\n",
              "<style>\n",
              "  .colab-df-quickchart {\n",
              "      --bg-color: #E8F0FE;\n",
              "      --fill-color: #1967D2;\n",
              "      --hover-bg-color: #E2EBFA;\n",
              "      --hover-fill-color: #174EA6;\n",
              "      --disabled-fill-color: #AAA;\n",
              "      --disabled-bg-color: #DDD;\n",
              "  }\n",
              "\n",
              "  [theme=dark] .colab-df-quickchart {\n",
              "      --bg-color: #3B4455;\n",
              "      --fill-color: #D2E3FC;\n",
              "      --hover-bg-color: #434B5C;\n",
              "      --hover-fill-color: #FFFFFF;\n",
              "      --disabled-bg-color: #3B4455;\n",
              "      --disabled-fill-color: #666;\n",
              "  }\n",
              "\n",
              "  .colab-df-quickchart {\n",
              "    background-color: var(--bg-color);\n",
              "    border: none;\n",
              "    border-radius: 50%;\n",
              "    cursor: pointer;\n",
              "    display: none;\n",
              "    fill: var(--fill-color);\n",
              "    height: 32px;\n",
              "    padding: 0;\n",
              "    width: 32px;\n",
              "  }\n",
              "\n",
              "  .colab-df-quickchart:hover {\n",
              "    background-color: var(--hover-bg-color);\n",
              "    box-shadow: 0 1px 2px rgba(60, 64, 67, 0.3), 0 1px 3px 1px rgba(60, 64, 67, 0.15);\n",
              "    fill: var(--button-hover-fill-color);\n",
              "  }\n",
              "\n",
              "  .colab-df-quickchart-complete:disabled,\n",
              "  .colab-df-quickchart-complete:disabled:hover {\n",
              "    background-color: var(--disabled-bg-color);\n",
              "    fill: var(--disabled-fill-color);\n",
              "    box-shadow: none;\n",
              "  }\n",
              "\n",
              "  .colab-df-spinner {\n",
              "    border: 2px solid var(--fill-color);\n",
              "    border-color: transparent;\n",
              "    border-bottom-color: var(--fill-color);\n",
              "    animation:\n",
              "      spin 1s steps(1) infinite;\n",
              "  }\n",
              "\n",
              "  @keyframes spin {\n",
              "    0% {\n",
              "      border-color: transparent;\n",
              "      border-bottom-color: var(--fill-color);\n",
              "      border-left-color: var(--fill-color);\n",
              "    }\n",
              "    20% {\n",
              "      border-color: transparent;\n",
              "      border-left-color: var(--fill-color);\n",
              "      border-top-color: var(--fill-color);\n",
              "    }\n",
              "    30% {\n",
              "      border-color: transparent;\n",
              "      border-left-color: var(--fill-color);\n",
              "      border-top-color: var(--fill-color);\n",
              "      border-right-color: var(--fill-color);\n",
              "    }\n",
              "    40% {\n",
              "      border-color: transparent;\n",
              "      border-right-color: var(--fill-color);\n",
              "      border-top-color: var(--fill-color);\n",
              "    }\n",
              "    60% {\n",
              "      border-color: transparent;\n",
              "      border-right-color: var(--fill-color);\n",
              "    }\n",
              "    80% {\n",
              "      border-color: transparent;\n",
              "      border-right-color: var(--fill-color);\n",
              "      border-bottom-color: var(--fill-color);\n",
              "    }\n",
              "    90% {\n",
              "      border-color: transparent;\n",
              "      border-bottom-color: var(--fill-color);\n",
              "    }\n",
              "  }\n",
              "</style>\n",
              "\n",
              "  <script>\n",
              "    async function quickchart(key) {\n",
              "      const quickchartButtonEl =\n",
              "        document.querySelector('#' + key + ' button');\n",
              "      quickchartButtonEl.disabled = true;  // To prevent multiple clicks.\n",
              "      quickchartButtonEl.classList.add('colab-df-spinner');\n",
              "      try {\n",
              "        const charts = await google.colab.kernel.invokeFunction(\n",
              "            'suggestCharts', [key], {});\n",
              "      } catch (error) {\n",
              "        console.error('Error during call to suggestCharts:', error);\n",
              "      }\n",
              "      quickchartButtonEl.classList.remove('colab-df-spinner');\n",
              "      quickchartButtonEl.classList.add('colab-df-quickchart-complete');\n",
              "    }\n",
              "    (() => {\n",
              "      let quickchartButtonEl =\n",
              "        document.querySelector('#df-9cb46c90-d4c9-4d87-ba47-3116aef1b911 button');\n",
              "      quickchartButtonEl.style.display =\n",
              "        google.colab.kernel.accessAllowed ? 'block' : 'none';\n",
              "    })();\n",
              "  </script>\n",
              "</div>\n",
              "\n",
              "    </div>\n",
              "  </div>\n"
            ],
            "application/vnd.google.colaboratory.intrinsic+json": {
              "type": "dataframe",
              "variable_name": "data",
              "summary": "{\n  \"name\": \"data\",\n  \"rows\": 3929,\n  \"fields\": [\n    {\n      \"column\": \"id\",\n      \"properties\": {\n        \"dtype\": \"number\",\n        \"std\": 2189,\n        \"min\": 32204,\n        \"max\": 39901,\n        \"num_unique_values\": 3929,\n        \"samples\": [\n          35713,\n          35084,\n          36194\n        ],\n        \"semantic_type\": \"\",\n        \"description\": \"\"\n      }\n    },\n    {\n      \"column\": \"make\",\n      \"properties\": {\n        \"dtype\": \"category\",\n        \"num_unique_values\": 39,\n        \"samples\": [\n          \"Honda\",\n          \"Genesis\",\n          \"Hyundai\"\n        ],\n        \"semantic_type\": \"\",\n        \"description\": \"\"\n      }\n    },\n    {\n      \"column\": \"model\",\n      \"properties\": {\n        \"dtype\": \"category\",\n        \"num_unique_values\": 769,\n        \"samples\": [\n          \"Maybach S550 4matic\",\n          \"Prius\",\n          \"230i Convertible\"\n        ],\n        \"semantic_type\": \"\",\n        \"description\": \"\"\n      }\n    },\n    {\n      \"column\": \"year\",\n      \"properties\": {\n        \"dtype\": \"number\",\n        \"std\": 1,\n        \"min\": 2013,\n        \"max\": 2018,\n        \"num_unique_values\": 6,\n        \"samples\": [\n          2013,\n          2014,\n          2018\n        ],\n        \"semantic_type\": \"\",\n        \"description\": \"\"\n      }\n    },\n    {\n      \"column\": \"VClass\",\n      \"properties\": {\n        \"dtype\": \"category\",\n        \"num_unique_values\": 5,\n        \"samples\": [\n          \"Compact Cars\",\n          \"Minicompact Cars\",\n          \"Midsize Cars\"\n        ],\n        \"semantic_type\": \"\",\n        \"description\": \"\"\n      }\n    },\n    {\n      \"column\": \"drive\",\n      \"properties\": {\n        \"dtype\": \"category\",\n        \"num_unique_values\": 6,\n        \"samples\": [\n          \"All-Wheel Drive\",\n          \"Front-Wheel Drive\",\n          \"Automatic (A1)\"\n        ],\n        \"semantic_type\": \"\",\n        \"description\": \"\"\n      }\n    },\n    {\n      \"column\": \"trans\",\n      \"properties\": {\n        \"dtype\": \"category\",\n        \"num_unique_values\": 27,\n        \"samples\": [\n          \"Automatic (AV-S6)\",\n          \"Automatic (variable gear ratios)\",\n          \"Automatic (S8)\"\n        ],\n        \"semantic_type\": \"\",\n        \"description\": \"\"\n      }\n    },\n    {\n      \"column\": \"fuelType\",\n      \"properties\": {\n        \"dtype\": \"category\",\n        \"num_unique_values\": 5,\n        \"samples\": [\n          \"Regular Gasoline\",\n          \"Natural Gas\",\n          \"Diesel\"\n        ],\n        \"semantic_type\": \"\",\n        \"description\": \"\"\n      }\n    },\n    {\n      \"column\": \"cylinders\",\n      \"properties\": {\n        \"dtype\": \"number\",\n        \"std\": 1,\n        \"min\": 2,\n        \"max\": 12,\n        \"num_unique_values\": 7,\n        \"samples\": [\n          6,\n          4,\n          3\n        ],\n        \"semantic_type\": \"\",\n        \"description\": \"\"\n      }\n    },\n    {\n      \"column\": \"displ\",\n      \"properties\": {\n        \"dtype\": \"number\",\n        \"std\": 1.305900873154292,\n        \"min\": 0.6,\n        \"max\": 7.0,\n        \"num_unique_values\": 46,\n        \"samples\": [\n          1.0,\n          6.7,\n          1.3\n        ],\n        \"semantic_type\": \"\",\n        \"description\": \"\"\n      }\n    },\n    {\n      \"column\": \"pv2\",\n      \"properties\": {\n        \"dtype\": \"number\",\n        \"std\": 37,\n        \"min\": 0,\n        \"max\": 102,\n        \"num_unique_values\": 33,\n        \"samples\": [\n          100,\n          85,\n          87\n        ],\n        \"semantic_type\": \"\",\n        \"description\": \"\"\n      }\n    },\n    {\n      \"column\": \"pv4\",\n      \"properties\": {\n        \"dtype\": \"number\",\n        \"std\": 48,\n        \"min\": 0,\n        \"max\": 127,\n        \"num_unique_values\": 43,\n        \"samples\": [\n          108,\n          125,\n          84\n        ],\n        \"semantic_type\": \"\",\n        \"description\": \"\"\n      }\n    },\n    {\n      \"column\": \"city\",\n      \"properties\": {\n        \"dtype\": \"number\",\n        \"std\": 6.246272847435056,\n        \"min\": 10.5402,\n        \"max\": 57.8088,\n        \"num_unique_values\": 1619,\n        \"samples\": [\n          21.8931,\n          24.4094,\n          19.2707\n        ],\n        \"semantic_type\": \"\",\n        \"description\": \"\"\n      }\n    },\n    {\n      \"column\": \"UCity\",\n      \"properties\": {\n        \"dtype\": \"number\",\n        \"std\": 9.087194981187881,\n        \"min\": 12.9,\n        \"max\": 83.5598,\n        \"num_unique_values\": 1467,\n        \"samples\": [\n          20.1572,\n          18.5,\n          35.7216\n        ],\n        \"semantic_type\": \"\",\n        \"description\": \"\"\n      }\n    },\n    {\n      \"column\": \"highway\",\n      \"properties\": {\n        \"dtype\": \"number\",\n        \"std\": 5.747570661230514,\n        \"min\": 16.5594,\n        \"max\": 59.4169,\n        \"num_unique_values\": 1659,\n        \"samples\": [\n          37.6688,\n          38.3403,\n          39.9081\n        ],\n        \"semantic_type\": \"\",\n        \"description\": \"\"\n      }\n    },\n    {\n      \"column\": \"UHighway\",\n      \"properties\": {\n        \"dtype\": \"number\",\n        \"std\": 9.100422725352038,\n        \"min\": 21.8,\n        \"max\": 79.1,\n        \"num_unique_values\": 1472,\n        \"samples\": [\n          32.7164,\n          44.2918,\n          34.2507\n        ],\n        \"semantic_type\": \"\",\n        \"description\": \"\"\n      }\n    },\n    {\n      \"column\": \"comb\",\n      \"properties\": {\n        \"dtype\": \"number\",\n        \"std\": 6.003245556571921,\n        \"min\": 12.8217,\n        \"max\": 57.7824,\n        \"num_unique_values\": 2110,\n        \"samples\": [\n          21.6244,\n          24.7111,\n          27.6665\n        ],\n        \"semantic_type\": \"\",\n        \"description\": \"\"\n      }\n    },\n    {\n      \"column\": \"co2\",\n      \"properties\": {\n        \"dtype\": \"number\",\n        \"std\": 92,\n        \"min\": 29,\n        \"max\": 692,\n        \"num_unique_values\": 404,\n        \"samples\": [\n          476,\n          679,\n          122\n        ],\n        \"semantic_type\": \"\",\n        \"description\": \"\"\n      }\n    },\n    {\n      \"column\": \"feScore\",\n      \"properties\": {\n        \"dtype\": \"number\",\n        \"std\": 1,\n        \"min\": 1,\n        \"max\": 10,\n        \"num_unique_values\": 10,\n        \"samples\": [\n          10,\n          6,\n          2\n        ],\n        \"semantic_type\": \"\",\n        \"description\": \"\"\n      }\n    },\n    {\n      \"column\": \"ghgScore\",\n      \"properties\": {\n        \"dtype\": \"number\",\n        \"std\": 1,\n        \"min\": 1,\n        \"max\": 10,\n        \"num_unique_values\": 10,\n        \"samples\": [\n          10,\n          6,\n          2\n        ],\n        \"semantic_type\": \"\",\n        \"description\": \"\"\n      }\n    }\n  ]\n}"
            }
          },
          "metadata": {},
          "execution_count": 53
        }
      ]
    },
    {
      "cell_type": "markdown",
      "source": [
        "We need to select the numerical features for analysis"
      ],
      "metadata": {
        "id": "WfmnY0dipb1J"
      }
    },
    {
      "cell_type": "code",
      "source": [
        "numerical_features = ['cylinders', 'displ', 'pv2', 'pv4', 'city', 'UCity', 'highway', 'UHighway', 'comb', 'co2', 'feScore', 'ghgScore']\n",
        "df_numerical = data[numerical_features]"
      ],
      "metadata": {
        "id": "3sFNsqA4pAZx"
      },
      "execution_count": 54,
      "outputs": []
    },
    {
      "cell_type": "markdown",
      "source": [
        "### Step 1: Standardize the Data along the Features\n",
        "\n",
        "![image.png](https://encrypted-tbn0.gstatic.com/images?q=tbn:ANd9GcQLxe5VYCBsaZddkkTZlCY24Yov4JJD4-ArTA&usqp=CAU)\n",
        "\n",
        "\n",
        "\n",
        "\n",
        "Explain why we need to handle the data on the same scale.\n",
        "\n",
        "**[We need to keep the data on the same scale to avoid distorting it. PCA works best when the data is spread out evenly, and not doing this can affect the results.]**"
      ],
      "metadata": {
        "id": "gXDIZmRno_G6"
      }
    },
    {
      "cell_type": "code",
      "source": [
        "# Create a StandardScaler object\n",
        "scaler = StandardScaler()\n",
        "# Fit and transform the data\n",
        "standardized_data = scaler.fit_transform(df_numerical)\n",
        "\n",
        "# print the standardized data\n",
        "print(\"The standardized data:\\n\", standardized_data)"
      ],
      "metadata": {
        "colab": {
          "base_uri": "https://localhost:8080/"
        },
        "id": "2uNv5wIxpP8_",
        "outputId": "4cc3a401-6071-4d3c-88de-8f4c66c2b9a9"
      },
      "execution_count": 55,
      "outputs": [
        {
          "output_type": "stream",
          "name": "stdout",
          "text": [
            "The standardized data:\n",
            " [[ 0.28310163  0.65053594  1.46709627 ...  1.02283829 -0.95057953\n",
            "  -0.94575548]\n",
            " [-0.78181585 -0.72799833  1.86476224 ... -0.29854998  0.1886082\n",
            "   0.1942578 ]\n",
            " [ 0.28310163  0.49736547  1.86476224 ...  0.56793413 -0.38098566\n",
            "  -0.37574884]\n",
            " ...\n",
            " [-0.78181585 -0.72799833 -0.62727784 ... -1.78240402  1.89738979\n",
            "   1.90427772]\n",
            " [ 0.28310163  0.34419499  1.99731757 ...  0.11302997 -0.38098566\n",
            "  -0.37574884]\n",
            " [ 0.28310163  0.34419499  1.99731757 ...  0.43796152 -0.95057953\n",
            "  -0.94575548]]\n"
          ]
        }
      ]
    },
    {
      "cell_type": "markdown",
      "source": [
        "![cov matrix.webp](https://dmitry.ai/uploads/default/original/1X/9bd2851674ebb55e404cc3ff5e2ffe65b42ff460.png)\n",
        "\n",
        "We use the pair - wise covariance of the different features to determine how they relate to each other. With these covariances, our goal is to group / cluster based on similar patterns. Intuitively, we can relate features if they have similar covariances with other features."
      ],
      "metadata": {
        "id": "7rzoiQ7fMk_d"
      }
    },
    {
      "cell_type": "markdown",
      "source": [
        "### Step 2: Calculate the Covariance Matrix\n",
        "\n"
      ],
      "metadata": {
        "id": "FCUiSH25rGqi"
      }
    },
    {
      "cell_type": "code",
      "source": [
        "# Covariance matrix\n",
        "cov_matrix = np.cov(standardized_data, rowvar=False)\n",
        "\n",
        "# print the covariance matrix\n",
        "print(\"The covariance matrix is:\", cov_matrix)"
      ],
      "metadata": {
        "colab": {
          "base_uri": "https://localhost:8080/"
        },
        "id": "CPeau6ZiJuzn",
        "outputId": "6178d088-ffc7-42fb-8d92-a6441a90a659"
      },
      "execution_count": 56,
      "outputs": [
        {
          "output_type": "stream",
          "name": "stdout",
          "text": [
            "The covariance matrix is: [[ 1.00025458  0.93411019  0.24763384 -0.00426546 -0.69327904 -0.66619842\n",
            "  -0.76646982 -0.77169964 -0.73821112  0.84848979 -0.78405759 -0.78201448]\n",
            " [ 0.93411019  1.00025458  0.2594021   0.02207729 -0.71366074 -0.6863403\n",
            "  -0.78418374 -0.78865771 -0.75859024  0.85559254 -0.7936343  -0.79141752]\n",
            " [ 0.24763384  0.2594021   1.00025458 -0.66581137 -0.27817962 -0.27261515\n",
            "  -0.29688365 -0.29858023 -0.29095711  0.28727323 -0.2961638  -0.29323103]\n",
            " [-0.00426546  0.02207729 -0.66581137  1.00025458  0.03519659  0.03787859\n",
            "   0.07497068  0.07746161  0.04734493 -0.05016567  0.06489226  0.06527952]\n",
            " [-0.69327904 -0.71366074 -0.27817962  0.03519659  1.00025458  0.99663082\n",
            "   0.9156677   0.90989004  0.98980432 -0.90453509  0.9059112   0.89902154]\n",
            " [-0.66619842 -0.6863403  -0.27261515  0.03787859  0.99663082  1.00025458\n",
            "   0.89978578  0.89804238  0.98135571 -0.8860481   0.89152389  0.88468357]\n",
            " [-0.76646982 -0.78418374 -0.29688365  0.07497068  0.9156677   0.89978578\n",
            "   1.00025458  0.99244327  0.9630022  -0.91668944  0.91434884  0.89781322]\n",
            " [-0.77169964 -0.78865771 -0.29858023  0.07746161  0.90989004  0.89804238\n",
            "   0.99244327  1.00025458  0.95682339 -0.91234956  0.91158665  0.89454192]\n",
            " [-0.73821112 -0.75859024 -0.29095711  0.04734493  0.98980432  0.98135571\n",
            "   0.9630022   0.95682339  1.00025458 -0.92963549  0.92909879  0.91904062]\n",
            " [ 0.84848979  0.85559254  0.28727323 -0.05016567 -0.90453509 -0.8860481\n",
            "  -0.91668944 -0.91234956 -0.92963549  1.00025458 -0.94086368 -0.94480617]\n",
            " [-0.78405759 -0.7936343  -0.2961638   0.06489226  0.9059112   0.89152389\n",
            "   0.91434884  0.91158665  0.92909879 -0.94086368  1.00025458  0.99448412]\n",
            " [-0.78201448 -0.79141752 -0.29323103  0.06527952  0.89902154  0.88468357\n",
            "   0.89781322  0.89454192  0.91904062 -0.94480617  0.99448412  1.00025458]]\n"
          ]
        }
      ]
    },
    {
      "cell_type": "markdown",
      "source": [
        "### Step 3: Eigendecomposition on the Covariance Matrix\n"
      ],
      "metadata": {
        "id": "MJMovWPWNJSd"
      }
    },
    {
      "cell_type": "code",
      "source": [
        "# The eigen decomposition on the covariance matrix\n",
        "eigenvalues, eigenvectors = np.linalg.eig(cov_matrix)\n",
        "\n",
        "# Print the eigenvalues and eigenvectors\n",
        "print(\"Eigenvalues:\\n\", eigenvalues)\n",
        "print(\"\\nEigenvectors:\\n\", eigenvectors)"
      ],
      "metadata": {
        "colab": {
          "base_uri": "https://localhost:8080/"
        },
        "outputId": "7df434dd-1830-441f-a737-f1a0ea314db7",
        "id": "u8nm9bPiNPy9"
      },
      "execution_count": 57,
      "outputs": [
        {
          "output_type": "stream",
          "name": "stdout",
          "text": [
            "Eigenvalues:\n",
            " [8.95357479e+00 1.59888826e+00 6.70397390e-01 3.02817836e-01\n",
            " 1.97115806e-01 1.49330212e-01 6.40319657e-02 5.06771867e-02\n",
            " 9.35264426e-03 4.30912437e-03 2.16731590e-03 3.92458676e-04]\n",
            "\n",
            "Eigenvectors:\n",
            " [[ 2.81610671e-01 -5.87021820e-02  6.01411270e-01 -9.01543396e-02\n",
            "  -1.00964748e-01 -2.13169234e-01  6.73412463e-01 -1.94023559e-01\n",
            "  -1.69247242e-02  1.79024443e-02 -7.29133424e-03  1.25160668e-03]\n",
            " [ 2.86070244e-01 -6.80426674e-02  5.69726243e-01  2.07976993e-02\n",
            "  -1.44569614e-01 -1.55897724e-01 -7.30556550e-01 -9.60087633e-02\n",
            "  -9.80098280e-04  2.62781761e-03 -1.82853310e-02 -6.01881951e-03]\n",
            " [ 1.13830426e-01  6.71005021e-01  1.12391980e-01  7.11950744e-01\n",
            "   5.15729633e-02  1.04758880e-01  5.41766556e-02  2.58385754e-02\n",
            "   4.56156792e-03  2.01620794e-03 -5.02224869e-03 -1.43039462e-03]\n",
            " [-2.72084360e-02 -7.32480421e-01  4.22830723e-02  6.55781610e-01\n",
            "   5.77025865e-02  1.51135981e-01  6.20686339e-02  2.76324392e-02\n",
            "   7.80600652e-03  3.13588176e-03 -5.68994098e-03 -1.96795417e-03]\n",
            " [-3.17969384e-01  3.49222360e-02  3.07016079e-01 -1.01602038e-01\n",
            "   7.12043998e-02  4.05870245e-01  5.26043385e-03  7.08485990e-02\n",
            "   1.68869404e-01  2.22223349e-02 -4.66290582e-01  6.09761041e-01]\n",
            " [-3.13173177e-01  3.28109993e-02  3.49450982e-01 -1.06798160e-01\n",
            "   7.59178837e-02  4.56634755e-01 -4.13148155e-04  1.28436325e-01\n",
            "  -3.36652995e-01 -1.99628295e-02  6.42262916e-01 -1.01557233e-01]\n",
            " [-3.22226701e-01  1.16797320e-02  1.05998333e-01  6.73266070e-02\n",
            "   3.69294026e-01 -4.56744587e-01 -2.74214392e-02 -2.95934189e-02\n",
            "   5.61484755e-01 -7.76945472e-02  4.08425845e-01  2.13378476e-01]\n",
            " [-3.21697485e-01  9.76632309e-03  9.17190459e-02  7.07755455e-02\n",
            "   3.89175753e-01 -4.63093711e-01 -3.07072244e-02  4.84134742e-02\n",
            "  -6.64901896e-01 -1.10147035e-02 -2.65022595e-01  3.66142819e-02]\n",
            " [-3.26344804e-01  2.88544376e-02  2.31310416e-01 -4.76457400e-02\n",
            "   1.65751448e-01  1.14106821e-01  1.92599794e-03  3.24478506e-02\n",
            "   3.07244109e-01 -1.32200484e-02 -3.60422446e-01 -7.55554982e-01]\n",
            " [ 3.24580209e-01 -3.34914477e-02  8.24323613e-02 -7.43149361e-02\n",
            "   1.77296560e-01 -6.17540022e-02  5.10953189e-02  9.09612698e-01\n",
            "   6.78155481e-02 -1.03778993e-01 -2.41246150e-02 -1.88768392e-03]\n",
            " [-3.22606320e-01  1.81231358e-02  4.38768135e-02  8.43162165e-02\n",
            "  -5.05433477e-01 -2.30637762e-01  2.27227743e-02  2.79505435e-01\n",
            "   2.91075629e-02  7.05040795e-01  3.63983581e-02 -3.36336164e-03]\n",
            " [-3.20518660e-01  1.83934552e-02  3.23883898e-02  9.13419270e-02\n",
            "  -5.91503457e-01 -1.73473948e-01  3.40834202e-02  1.42826934e-01\n",
            "  -2.39569400e-02 -6.96118678e-01 -2.76857400e-02  9.20338422e-03]]\n"
          ]
        }
      ]
    },
    {
      "cell_type": "markdown",
      "source": [
        "### Step 4: Sort the Principal Components\n",
        "# np.argsort can only provide lowest to highest; use [::-1] to reverse the list"
      ],
      "metadata": {
        "id": "vIZo8hp_PZNu"
      }
    },
    {
      "cell_type": "code",
      "source": [
        "# np.argsort can only provide lowest to highest; use [::-1] to reverse the list\n",
        "order_of_importance = np.argsort(eigenvalues)[::-1]\n",
        "print ( 'the order of importance is :\\n {}'.format(order_of_importance))\n",
        "\n",
        "# utilize the sort order to sort eigenvalues and eigenvectors\n",
        "sorted_eigenvalues = eigenvalues[order_of_importance]\n",
        "\n",
        "print('\\n\\n sorted eigen values:\\n{}'.format(sorted_eigenvalues))\n",
        "sorted_eigenvectors = eigenvectors[:, order_of_importance] # sort the columns\n",
        "print('\\n\\n The sorted eigen vector matrix is: \\n {}'.format(sorted_eigenvectors))"
      ],
      "metadata": {
        "colab": {
          "base_uri": "https://localhost:8080/"
        },
        "outputId": "aa8e5622-4b45-4d05-86d4-5622d3598f03",
        "id": "kR3P08vnP-b1"
      },
      "execution_count": 58,
      "outputs": [
        {
          "output_type": "stream",
          "name": "stdout",
          "text": [
            "the order of importance is :\n",
            " [ 0  1  2  3  4  5  6  7  8  9 10 11]\n",
            "\n",
            "\n",
            " sorted eigen values:\n",
            "[8.95357479e+00 1.59888826e+00 6.70397390e-01 3.02817836e-01\n",
            " 1.97115806e-01 1.49330212e-01 6.40319657e-02 5.06771867e-02\n",
            " 9.35264426e-03 4.30912437e-03 2.16731590e-03 3.92458676e-04]\n",
            "\n",
            "\n",
            " The sorted eigen vector matrix is: \n",
            " [[ 2.81610671e-01 -5.87021820e-02  6.01411270e-01 -9.01543396e-02\n",
            "  -1.00964748e-01 -2.13169234e-01  6.73412463e-01 -1.94023559e-01\n",
            "  -1.69247242e-02  1.79024443e-02 -7.29133424e-03  1.25160668e-03]\n",
            " [ 2.86070244e-01 -6.80426674e-02  5.69726243e-01  2.07976993e-02\n",
            "  -1.44569614e-01 -1.55897724e-01 -7.30556550e-01 -9.60087633e-02\n",
            "  -9.80098280e-04  2.62781761e-03 -1.82853310e-02 -6.01881951e-03]\n",
            " [ 1.13830426e-01  6.71005021e-01  1.12391980e-01  7.11950744e-01\n",
            "   5.15729633e-02  1.04758880e-01  5.41766556e-02  2.58385754e-02\n",
            "   4.56156792e-03  2.01620794e-03 -5.02224869e-03 -1.43039462e-03]\n",
            " [-2.72084360e-02 -7.32480421e-01  4.22830723e-02  6.55781610e-01\n",
            "   5.77025865e-02  1.51135981e-01  6.20686339e-02  2.76324392e-02\n",
            "   7.80600652e-03  3.13588176e-03 -5.68994098e-03 -1.96795417e-03]\n",
            " [-3.17969384e-01  3.49222360e-02  3.07016079e-01 -1.01602038e-01\n",
            "   7.12043998e-02  4.05870245e-01  5.26043385e-03  7.08485990e-02\n",
            "   1.68869404e-01  2.22223349e-02 -4.66290582e-01  6.09761041e-01]\n",
            " [-3.13173177e-01  3.28109993e-02  3.49450982e-01 -1.06798160e-01\n",
            "   7.59178837e-02  4.56634755e-01 -4.13148155e-04  1.28436325e-01\n",
            "  -3.36652995e-01 -1.99628295e-02  6.42262916e-01 -1.01557233e-01]\n",
            " [-3.22226701e-01  1.16797320e-02  1.05998333e-01  6.73266070e-02\n",
            "   3.69294026e-01 -4.56744587e-01 -2.74214392e-02 -2.95934189e-02\n",
            "   5.61484755e-01 -7.76945472e-02  4.08425845e-01  2.13378476e-01]\n",
            " [-3.21697485e-01  9.76632309e-03  9.17190459e-02  7.07755455e-02\n",
            "   3.89175753e-01 -4.63093711e-01 -3.07072244e-02  4.84134742e-02\n",
            "  -6.64901896e-01 -1.10147035e-02 -2.65022595e-01  3.66142819e-02]\n",
            " [-3.26344804e-01  2.88544376e-02  2.31310416e-01 -4.76457400e-02\n",
            "   1.65751448e-01  1.14106821e-01  1.92599794e-03  3.24478506e-02\n",
            "   3.07244109e-01 -1.32200484e-02 -3.60422446e-01 -7.55554982e-01]\n",
            " [ 3.24580209e-01 -3.34914477e-02  8.24323613e-02 -7.43149361e-02\n",
            "   1.77296560e-01 -6.17540022e-02  5.10953189e-02  9.09612698e-01\n",
            "   6.78155481e-02 -1.03778993e-01 -2.41246150e-02 -1.88768392e-03]\n",
            " [-3.22606320e-01  1.81231358e-02  4.38768135e-02  8.43162165e-02\n",
            "  -5.05433477e-01 -2.30637762e-01  2.27227743e-02  2.79505435e-01\n",
            "   2.91075629e-02  7.05040795e-01  3.63983581e-02 -3.36336164e-03]\n",
            " [-3.20518660e-01  1.83934552e-02  3.23883898e-02  9.13419270e-02\n",
            "  -5.91503457e-01 -1.73473948e-01  3.40834202e-02  1.42826934e-01\n",
            "  -2.39569400e-02 -6.96118678e-01 -2.76857400e-02  9.20338422e-03]]\n"
          ]
        }
      ]
    },
    {
      "cell_type": "markdown",
      "source": [
        "You want to see what percentage of information each eigen value holds. You would have print out the percentage of each eigen value using the formula\n",
        "\n",
        "\n",
        "\n",
        "> (sorted eigen values / sum of all sorted eigen values) * 100\n",
        "\n"
      ],
      "metadata": {
        "id": "vUKMZRZeRou3"
      }
    },
    {
      "cell_type": "code",
      "source": [
        "# use sorted_eigenvalues to ensure the explained variances correspond to the eigenvectors\n",
        "\n",
        "total_variance = sum(sorted_eigenvalues)\n",
        "explained_variance = [value / total_variance * 100 for value in sorted_eigenvalues]\n",
        "explained_variance =[\"{:.2f}%\".format(value) for value in explained_variance]\n",
        "print( explained_variance)"
      ],
      "metadata": {
        "colab": {
          "base_uri": "https://localhost:8080/"
        },
        "outputId": "dd5bca8d-c26e-470e-e552-5842a90e8972",
        "id": "eMQJ5ZVcRvzs"
      },
      "execution_count": 59,
      "outputs": [
        {
          "output_type": "stream",
          "name": "stdout",
          "text": [
            "['74.59%', '13.32%', '5.59%', '2.52%', '1.64%', '1.24%', '0.53%', '0.42%', '0.08%', '0.04%', '0.02%', '0.00%']\n"
          ]
        }
      ]
    },
    {
      "cell_type": "markdown",
      "source": [
        "#Initialize the number of Principle components then perfrom matrix multiplication with the variable K example k = 3 for 3 priciple components\n",
        "\n",
        "\n",
        "\n",
        "\n",
        "> The reulting matrix (with reduced data) = standardized data * vector with columns k\n",
        "\n",
        "See expected output for k = 2\n",
        "\n"
      ],
      "metadata": {
        "id": "SjHpjrD8SBsO"
      }
    },
    {
      "cell_type": "code",
      "source": [
        "k =  2 # select the number of principal components\n",
        "\n",
        "reduced_data = sorted_eigenvectors[:, :k]\n",
        "reduced_data = np.matmul(standardized_data, reduced_data) # transform the original data"
      ],
      "metadata": {
        "id": "nPR7LA_XSHt9"
      },
      "execution_count": 60,
      "outputs": []
    },
    {
      "cell_type": "code",
      "source": [
        "print(reduced_data)"
      ],
      "metadata": {
        "colab": {
          "base_uri": "https://localhost:8080/"
        },
        "outputId": "61e464f0-a406-4577-b4d9-a8588f014120",
        "id": "c4MfCL5qSVFw"
      },
      "execution_count": 61,
      "outputs": [
        {
          "output_type": "stream",
          "name": "stdout",
          "text": [
            "[[ 3.14102588  1.63060289]\n",
            " [-0.43875231  2.25561167]\n",
            " [ 2.04053129  1.97567015]\n",
            " ...\n",
            " [-6.79752294 -0.55969575]\n",
            " [ 1.0444181   2.13842134]\n",
            " [ 2.04802157  2.07556568]]\n"
          ]
        }
      ]
    },
    {
      "cell_type": "code",
      "source": [
        "print(reduced_data.shape)"
      ],
      "metadata": {
        "colab": {
          "base_uri": "https://localhost:8080/"
        },
        "id": "m-Xq0uJWVS_V",
        "outputId": "6123f347-5f78-46bb-b083-1c9cceae4714"
      },
      "execution_count": 62,
      "outputs": [
        {
          "output_type": "stream",
          "name": "stdout",
          "text": [
            "(3929, 2)\n"
          ]
        }
      ]
    }
  ]
}